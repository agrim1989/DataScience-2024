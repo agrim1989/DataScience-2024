{
  "nbformat": 4,
  "nbformat_minor": 0,
  "metadata": {
    "colab": {
      "provenance": [],
      "toc_visible": true,
      "authorship_tag": "ABX9TyOPGznk30gpmXbRwjtg0HMp",
      "include_colab_link": true
    },
    "kernelspec": {
      "name": "python3",
      "display_name": "Python 3"
    },
    "language_info": {
      "name": "python"
    }
  },
  "cells": [
    {
      "cell_type": "markdown",
      "metadata": {
        "id": "view-in-github",
        "colab_type": "text"
      },
      "source": [
        "<a href=\"https://colab.research.google.com/github/agrim1989/DataScience-2024/blob/main/Assignment.ipynb\" target=\"_parent\"><img src=\"https://colab.research.google.com/assets/colab-badge.svg\" alt=\"Open In Colab\"/></a>"
      ]
    },
    {
      "cell_type": "markdown",
      "source": [
        "### New Assignmet Notebook"
      ],
      "metadata": {
        "id": "oJNRrFY30wiQ"
      }
    },
    {
      "cell_type": "markdown",
      "source": [
        "### Data Science Fundamentals - Introduction (Exercises)\n",
        "\n",
        "This Jupyter Notebook serves as an introduction to some fundamental concepts in Data Science. We'll explore different aspects including languages, libraries, tools, and basic arithmetic operations."
      ],
      "metadata": {
        "id": "dpE51Pgu05hk"
      }
    },
    {
      "cell_type": "markdown",
      "source": [
        "### Here are some popular programming languages used in Data Science:\n",
        "*   Python\n",
        "*   R\n",
        "*   Julia\n",
        "*   Scala"
      ],
      "metadata": {
        "id": "L3aOGpX71K7l"
      }
    },
    {
      "cell_type": "markdown",
      "source": [
        "### These are commonly used **libraries** within **Data Science** workflows:\n",
        "*   NumPy (Python)\n",
        "*   Pandas (Python)\n",
        "*   Scikit-learn (Python)\n",
        "*   TensorFlow/PyTorch (Python)\n",
        "*   ggplot2 (R)"
      ],
      "metadata": {
        "id": "JXCE0M202Hhz"
      }
    },
    {
      "cell_type": "markdown",
      "source": [
        "### Data Science Tools\n",
        "* Jupyter Notebook\n",
        "* Version Control Systems (Git)\n",
        "* Cloud Platforms (AWS, Azure, GCP)\n",
        "* Data Visualization Tools (Tableau, Power BI)"
      ],
      "metadata": {
        "id": "VkJ8KH_j2a1w"
      }
    },
    {
      "cell_type": "markdown",
      "source": [
        "### Arithmetic Expressions\n",
        "We can perform various mathematical operations on numerical data using arithmetic expressions. Here are some examples:\n",
        "*    Addition (+)\n",
        "*    Subtraction (-)\n",
        "*    Multiplication (*)\n",
        "*    Division (/)\n"
      ],
      "metadata": {
        "id": "Yy96hob121tS"
      }
    },
    {
      "cell_type": "markdown",
      "source": [
        "### Exercise 8 - Create a code cell to multiply and add numbers."
      ],
      "metadata": {
        "id": "ya7krOz129uI"
      }
    },
    {
      "cell_type": "code",
      "source": [
        "# Multiply\n",
        "a = 5\n",
        "b = 10\n",
        "a * b"
      ],
      "metadata": {
        "colab": {
          "base_uri": "https://localhost:8080/"
        },
        "id": "N0jSb0Yd3NaV",
        "outputId": "662206f9-458c-4aaa-e697-e82f999c2762"
      },
      "execution_count": 2,
      "outputs": [
        {
          "output_type": "execute_result",
          "data": {
            "text/plain": [
              "50"
            ]
          },
          "metadata": {},
          "execution_count": 2
        }
      ]
    },
    {
      "cell_type": "code",
      "source": [
        "# Addition\n",
        "a = 5\n",
        "b = 10\n",
        "a + b"
      ],
      "metadata": {
        "colab": {
          "base_uri": "https://localhost:8080/"
        },
        "id": "SWvF5-CY3RRf",
        "outputId": "4546b081-bf91-4a69-d9f5-1d4e6b98acc8"
      },
      "execution_count": 1,
      "outputs": [
        {
          "output_type": "execute_result",
          "data": {
            "text/plain": [
              "15"
            ]
          },
          "metadata": {},
          "execution_count": 1
        }
      ]
    },
    {
      "cell_type": "markdown",
      "source": [
        "###Exercise 9 - Convert Minutes to Hours"
      ],
      "metadata": {
        "id": "IocTvVur3zdT"
      }
    },
    {
      "cell_type": "code",
      "source": [
        "minutes = 60\n",
        "hours = minutes / 60\n",
        "print(f\"{minutes} minutes is equal to {hours:.2f} hours\")"
      ],
      "metadata": {
        "colab": {
          "base_uri": "https://localhost:8080/"
        },
        "id": "bSUTLQsb329x",
        "outputId": "587b4f0c-de0c-428b-82bb-245e575965d1"
      },
      "execution_count": 3,
      "outputs": [
        {
          "output_type": "stream",
          "name": "stdout",
          "text": [
            "60 minutes is equal to 1.00 hours\n"
          ]
        }
      ]
    },
    {
      "cell_type": "markdown",
      "source": [
        "### Exercise 10 - Objectives\n",
        "The objectives of this notebook are to:\n",
        "* Introduce essential Data Science concepts.\n",
        "* Showcase basic Python code examples for arithmetic operations.\n",
        "* Provide an overview of Data Science tools and resources."
      ],
      "metadata": {
        "id": "jYo7q8eT38E4"
      }
    },
    {
      "cell_type": "markdown",
      "source": [
        "### Exercise 11 - Author\n",
        "This notebook is creeted by\n",
        "\n",
        "> Agrim Sharma\n",
        "\n",
        "\n",
        ""
      ],
      "metadata": {
        "id": "xufio8IN4DWT"
      }
    }
  ]
}